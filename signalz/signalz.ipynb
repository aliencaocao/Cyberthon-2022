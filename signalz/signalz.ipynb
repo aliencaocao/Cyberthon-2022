{
 "cells": [
  {
   "cell_type": "code",
   "execution_count": 1,
   "metadata": {
    "collapsed": true,
    "pycharm": {
     "name": "#%%\n"
    }
   },
   "outputs": [],
   "source": [
    "import pandas as pd\n",
    "import numpy as np\n",
    "import os\n",
    "import sklearn\n",
    "from sklearn import *"
   ]
  },
  {
   "cell_type": "code",
   "execution_count": 2,
   "outputs": [
    {
     "name": "stderr",
     "output_type": "stream",
     "text": [
      "C:\\Users\\alien\\AppData\\Local\\Temp\\ipykernel_71100\\1013350742.py:11: SettingWithCopyWarning: \n",
      "A value is trying to be set on a copy of a slice from a DataFrame.\n",
      "Try using .loc[row_indexer,col_indexer] = value instead\n",
      "\n",
      "See the caveats in the documentation: https://pandas.pydata.org/pandas-docs/stable/user_guide/indexing.html#returning-a-view-versus-a-copy\n",
      "  X['year'] = [x[:4] for x in df_train['feature 0']]\n"
     ]
    }
   ],
   "source": [
    "df_train = pd.read_csv('train.csv', index_col=0, header=0)\n",
    "df_test = pd.read_csv('test.csv', index_col=0, header=0)\n",
    "\n",
    "def clean_date(x):\n",
    "    return x.replace('-','')\n",
    "\n",
    "features = ['feature 1', 'feature 2', 'feature 3', 'feature 4', 'feature 5', 'feature 6', 'feature 7', 'feature 9']\n",
    "\n",
    "X = df_train[features]\n",
    "#X['feature 0'] = X['feature 0'].apply(clean_date)\n",
    "X['year'] = [x[:4] for x in df_train['feature 0']]\n",
    "X['month'] = [x[5:7] for x in df_train['feature 0']]\n",
    "X['day'] = [x[8:] for x in df_train['feature 0']]\n",
    "Y = df_train['predict']"
   ],
   "metadata": {
    "collapsed": false,
    "pycharm": {
     "name": "#%%\n"
    }
   }
  },
  {
   "cell_type": "code",
   "execution_count": 53,
   "outputs": [],
   "source": [
    "model1 = ensemble.ExtraTreesRegressor(random_state=4069, n_estimators=5000, criterion='squared_error', verbose=1, n_jobs=-1)"
   ],
   "metadata": {
    "collapsed": false,
    "pycharm": {
     "name": "#%%\n"
    }
   }
  },
  {
   "cell_type": "code",
   "execution_count": 54,
   "outputs": [
    {
     "name": "stderr",
     "output_type": "stream",
     "text": [
      "[Parallel(n_jobs=-1)]: Using backend ThreadingBackend with 12 concurrent workers.\n",
      "[Parallel(n_jobs=-1)]: Done  26 tasks      | elapsed:    0.0s\n",
      "[Parallel(n_jobs=-1)]: Done 176 tasks      | elapsed:    0.6s\n",
      "[Parallel(n_jobs=-1)]: Done 426 tasks      | elapsed:    1.7s\n",
      "[Parallel(n_jobs=-1)]: Done 776 tasks      | elapsed:    3.4s\n",
      "[Parallel(n_jobs=-1)]: Done 1226 tasks      | elapsed:    4.9s\n",
      "[Parallel(n_jobs=-1)]: Done 1776 tasks      | elapsed:    6.8s\n",
      "[Parallel(n_jobs=-1)]: Done 2426 tasks      | elapsed:    9.1s\n",
      "[Parallel(n_jobs=-1)]: Done 3176 tasks      | elapsed:   11.8s\n",
      "[Parallel(n_jobs=-1)]: Done 4026 tasks      | elapsed:   15.3s\n",
      "[Parallel(n_jobs=-1)]: Done 4976 tasks      | elapsed:   19.2s\n",
      "[Parallel(n_jobs=-1)]: Done 5000 out of 5000 | elapsed:   19.2s finished\n"
     ]
    },
    {
     "data": {
      "text/plain": "ExtraTreesRegressor(n_estimators=5000, n_jobs=-1, random_state=4069, verbose=1)"
     },
     "execution_count": 54,
     "metadata": {},
     "output_type": "execute_result"
    }
   ],
   "source": [
    "model1.fit(X, Y)\n",
    "#model2.fit(X, Y)"
   ],
   "metadata": {
    "collapsed": false,
    "pycharm": {
     "name": "#%%\n"
    }
   }
  },
  {
   "cell_type": "code",
   "execution_count": 50,
   "outputs": [
    {
     "name": "stderr",
     "output_type": "stream",
     "text": [
      "[Parallel(n_jobs=12)]: Using backend ThreadingBackend with 12 concurrent workers.\n",
      "[Parallel(n_jobs=12)]: Done  26 tasks      | elapsed:    0.0s\n",
      "[Parallel(n_jobs=12)]: Done 176 tasks      | elapsed:    0.0s\n",
      "[Parallel(n_jobs=12)]: Done 426 tasks      | elapsed:    0.0s\n",
      "[Parallel(n_jobs=12)]: Done 776 tasks      | elapsed:    0.0s\n",
      "[Parallel(n_jobs=12)]: Done 1226 tasks      | elapsed:    0.0s\n",
      "[Parallel(n_jobs=12)]: Done 1776 tasks      | elapsed:    0.1s\n",
      "[Parallel(n_jobs=12)]: Done 2426 tasks      | elapsed:    0.2s\n",
      "[Parallel(n_jobs=12)]: Done 3176 tasks      | elapsed:    0.3s\n",
      "[Parallel(n_jobs=12)]: Done 4026 tasks      | elapsed:    0.4s\n",
      "[Parallel(n_jobs=12)]: Done 4976 tasks      | elapsed:    0.5s\n",
      "[Parallel(n_jobs=12)]: Done 5000 out of 5000 | elapsed:    0.5s finished\n"
     ]
    }
   ],
   "source": [
    "X_test = df_test[features]\n",
    "#X_test['feature 0'] = X_test['feature 0'].apply(clean_date)\n",
    "X_test['year'] = [x[:4] for x in df_test['feature 0']]\n",
    "X_test['month'] = [x[5:7] for x in df_test['feature 0']]\n",
    "X_test['day'] = [x[8:] for x in df_test['feature 0']]\n",
    "preds1 = model1.predict(X_test)\n",
    "#preds2 = model2.predict(X_test)\n",
    "\n",
    "#preds = preds1 * 0.5 + preds2 * 0.5\n",
    "preds = preds1"
   ],
   "metadata": {
    "collapsed": false,
    "pycharm": {
     "name": "#%%\n"
    }
   }
  },
  {
   "cell_type": "code",
   "execution_count": 51,
   "outputs": [],
   "source": [
    "sub_df = pd.read_csv('submission.csv')\n",
    "sub_df['predict'] = preds\n",
    "sub_df.to_csv('submission.csv', index=False)"
   ],
   "metadata": {
    "collapsed": false,
    "pycharm": {
     "name": "#%%\n"
    }
   }
  },
  {
   "cell_type": "code",
   "execution_count": 52,
   "outputs": [
    {
     "name": "stdout",
     "output_type": "stream",
     "text": [
      "DSGraderClient: Successfully Connected!\n",
      "[SERVER] MOTD: CHECK your USER_TOKEN and GRADER_URL HTTP address! I'm SIGNALZ @deeb5a0afc5d\n",
      "ProofOfWork Challenge =>  ('CTFSGRB050417c58905e01b5667152e668bddb0', 22)\n",
      "ProofOfWork Answer Found! =>  8611539\n"
     ]
    },
    {
     "data": {
      "text/plain": "'{\"challenge\":{\"name\":\"Signal Analysis\"},\"id\":\"cl2zi4t4r04xq08465mq0bzmk\",\"status\":\"PARTIALLY_CORRECT\",\"multiplier\":0.7615,\"submittedBy\":{\"username\":\"SSSSSSSSSSSSSSSSSSSSSDDDDDD\"},\"createdAt\":\"2022-05-10T01:56:24Z\"}'"
     },
     "execution_count": 52,
     "metadata": {},
     "output_type": "execute_result"
    }
   ],
   "source": [
    "# Connect to graders\n",
    "import sys\n",
    "# insert at 1, 0 is the script path (or '' in REPL)\n",
    "sys.path.insert(1, r'C:\\Users\\alien\\Documents\\PyCharm-Projects\\Cyberthon 2022\\pyctfsglib.py')\n",
    "import pyctfsglib as ctfsg\n",
    "import random\n",
    "USER_TOKEN = \"NgNCyetIrzGVjgcTRnwFvjFdrJLYphEyqtVyoIgiESjpRzfQjgPiIgmKlnnyEbRb\" # You need to fill this up\n",
    "GRADER_URL = random.choice([\n",
    "  \"http://chals.cyberthon22f.ctf.sg:50301/\",\n",
    "  \"http://chals.cyberthon22f.ctf.sg:50302/\"\n",
    "])\n",
    "\n",
    "grader = ctfsg.DSGraderClient(GRADER_URL, USER_TOKEN)\n",
    "grader.submitFile('submission.csv')"
   ],
   "metadata": {
    "collapsed": false,
    "pycharm": {
     "name": "#%%\n"
    }
   }
  }
 ],
 "metadata": {
  "kernelspec": {
   "display_name": "Python 3",
   "language": "python",
   "name": "python3"
  },
  "language_info": {
   "codemirror_mode": {
    "name": "ipython",
    "version": 2
   },
   "file_extension": ".py",
   "mimetype": "text/x-python",
   "name": "python",
   "nbconvert_exporter": "python",
   "pygments_lexer": "ipython2",
   "version": "2.7.6"
  }
 },
 "nbformat": 4,
 "nbformat_minor": 0
}