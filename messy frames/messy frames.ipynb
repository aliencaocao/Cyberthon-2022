{
 "cells": [
  {
   "cell_type": "code",
   "execution_count": 1,
   "metadata": {
    "collapsed": true,
    "pycharm": {
     "name": "#%%\n"
    }
   },
   "outputs": [],
   "source": [
    "import cv2 as cv\n",
    "import os"
   ]
  },
  {
   "cell_type": "code",
   "execution_count": 2,
   "outputs": [],
   "source": [
    "imgs = list(os.listdir('extracted/'))\n",
    "h_bins = 50\n",
    "s_bins = 60\n",
    "histSize = [h_bins, s_bins]\n",
    "h_ranges = [0, 180]\n",
    "s_ranges = [0, 256]\n",
    "ranges = h_ranges + s_ranges\n",
    "channels = [0, 1]\n",
    "ordered_imgs = ['0001.png']\n",
    "s = '0001.png'"
   ],
   "metadata": {
    "collapsed": false,
    "pycharm": {
     "name": "#%%\n"
    }
   }
  },
  {
   "cell_type": "code",
   "execution_count": null,
   "outputs": [
    {
     "name": "stdout",
     "output_type": "stream",
     "text": [
      "1\n",
      "2\n",
      "3\n",
      "4\n",
      "5\n",
      "6\n",
      "7\n",
      "8\n",
      "9\n",
      "10\n",
      "11\n",
      "12\n",
      "13\n",
      "14\n",
      "15\n",
      "16\n",
      "17\n",
      "18\n",
      "19\n",
      "20\n",
      "21\n",
      "22\n",
      "23\n",
      "24\n",
      "25\n",
      "26\n",
      "27\n",
      "28\n",
      "29\n",
      "30\n",
      "31\n",
      "32\n",
      "33\n",
      "34\n",
      "35\n",
      "36\n",
      "37\n",
      "38\n",
      "39\n",
      "40\n",
      "41\n",
      "42\n",
      "43\n",
      "44\n",
      "45\n",
      "46\n",
      "47\n",
      "48\n",
      "49\n",
      "50\n",
      "51\n",
      "52\n",
      "53\n",
      "54\n",
      "55\n",
      "56\n",
      "57\n",
      "58\n",
      "59\n",
      "60\n",
      "61\n",
      "62\n",
      "63\n",
      "64\n",
      "65\n",
      "66\n",
      "67\n",
      "68\n",
      "69\n",
      "70\n",
      "71\n",
      "72\n",
      "73\n",
      "74\n",
      "75\n",
      "76\n",
      "77\n",
      "78\n",
      "79\n",
      "80\n",
      "81\n",
      "82\n",
      "83\n",
      "84\n",
      "85\n",
      "86\n",
      "87\n",
      "88\n",
      "89\n",
      "90\n",
      "91\n",
      "92\n"
     ]
    }
   ],
   "source": [
    "while len(ordered_imgs) < len(imgs):\n",
    "    print(len(ordered_imgs))\n",
    "    similarityDict = {}\n",
    "    img1 = cv.imread(f'extracted/{s}')\n",
    "    hsv_img1 = cv.cvtColor(img1, cv.COLOR_BGR2HSV)\n",
    "    hist_img1 = cv.calcHist([hsv_img1], channels, None, histSize, ranges, accumulate=False)\n",
    "    cv.normalize(hist_img1, hist_img1, alpha=0, beta=1, norm_type=cv.NORM_MINMAX)\n",
    "    for i in imgs:\n",
    "        img2 = cv.imread(f'extracted/{i}')\n",
    "        hsv_img2 = cv.cvtColor(img2, cv.COLOR_BGR2HSV)\n",
    "        hist_img2 = cv.calcHist([hsv_img2], channels, None, histSize, ranges, accumulate=False)\n",
    "        cv.normalize(hist_img2, hist_img2, alpha=0, beta=1, norm_type=cv.NORM_MINMAX)\n",
    "        similarity = cv.compareHist(hist_img1, hist_img2, cv.HISTCMP_CORREL)\n",
    "        similarityDict.update({i: similarity})\n",
    "    similarityDictSorted = sorted(similarityDict, key=similarityDict.get, reverse=True)\n",
    "    s = similarityDictSorted[1]\n",
    "    ordered_imgs.append(s)\n",
    "    imgs.remove(s)"
   ],
   "metadata": {
    "collapsed": false,
    "pycharm": {
     "name": "#%%\n",
     "is_executing": true
    }
   }
  },
  {
   "cell_type": "code",
   "execution_count": 18,
   "outputs": [],
   "source": [],
   "metadata": {
    "collapsed": false,
    "pycharm": {
     "name": "#%%\n"
    }
   }
  }
 ],
 "metadata": {
  "kernelspec": {
   "display_name": "Python 3",
   "language": "python",
   "name": "python3"
  },
  "language_info": {
   "codemirror_mode": {
    "name": "ipython",
    "version": 2
   },
   "file_extension": ".py",
   "mimetype": "text/x-python",
   "name": "python",
   "nbconvert_exporter": "python",
   "pygments_lexer": "ipython2",
   "version": "2.7.6"
  }
 },
 "nbformat": 4,
 "nbformat_minor": 0
}